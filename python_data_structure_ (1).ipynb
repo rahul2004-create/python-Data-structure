{
  "nbformat": 4,
  "nbformat_minor": 0,
  "metadata": {
    "colab": {
      "provenance": []
    },
    "kernelspec": {
      "name": "python3",
      "display_name": "Python 3"
    },
    "language_info": {
      "name": "python"
    }
  },
  "cells": [
    {
      "cell_type": "markdown",
      "source": [
        "#Data Structures Questions"
      ],
      "metadata": {
        "id": "Av0AyVRHZNVs"
      }
    },
    {
      "cell_type": "markdown",
      "source": [
        "1. What are data structures, and why are they important?\n",
        "\n",
        "- Data structure in python is a special format that help to organizing storing and accessing collection of data. They provide efficient ways to manage information.\n",
        "\n",
        "- They are important because -\n",
        "- choosing a right data structure significantyly impact the efficiensy and performance of the program.\n",
        "- Its simplify the data manipulating like (adding , removing, modifying elements)\n"
      ],
      "metadata": {
        "id": "64Ryfj-GZqSQ"
      }
    },
    {
      "cell_type": "markdown",
      "source": [
        " 2. Explain the difference between mutable and immutable data types with examples?\n",
        "\n",
        "- The main difference between a mutable and immutable data type is  \n",
        "\n",
        "\n",
        ": a data type that can be changed or modified like adding,removing etc after created is a mutable data type.\n",
        "\n",
        " : a data type that cant be changed or modified after created is a immutable data type.\n",
        "\n",
        " example:\n",
        " ```\n",
        "a = (\"Rahul\",18)\n",
        "b = a[0]=\"Pratik\"\n",
        "print(b) # it will throw an error because tuple cant be modified because it is  immutable.\n",
        "\n",
        "a = [\"Rahul\",18]\n",
        "b = a[0]=\"pratik\n",
        "print(a)  # it will change the output [\"Pratik\",18] because list is a mutable data type.\n",
        "\n"
      ],
      "metadata": {
        "id": "_SN9P4TeOkSW"
      }
    },
    {
      "cell_type": "markdown",
      "source": [
        "3. What are the main differences between lists and tuples in Python?\n",
        "\n",
        "- The main differences between a list and tuple are :\n",
        "\n",
        "- lists are mutable and tupels are immutable\n",
        "\n",
        "- for create a list we use []\n",
        "- for create a tuple we use ()\n",
        "\n",
        "\n"
      ],
      "metadata": {
        "id": "6TagLiZJpW5Q"
      }
    },
    {
      "cell_type": "markdown",
      "source": [
        "4. Describe how dictionaries store data?\n",
        "\n",
        "- Dictionaries  Store data as a key value pair. firstly we have to create a key and it has a ability to contains value. Its keys are unique and immutable.\n"
      ],
      "metadata": {
        "id": "52gUd_1zzqJ8"
      }
    },
    {
      "cell_type": "markdown",
      "source": [
        "5.  Why might you use a set instead of a list in Python?\n",
        "\n",
        "- Set is a unordered  collection of unique elements.\n",
        "\n",
        "so we can use a set instead of a list when we have to eleminate duplicates or performing fast membership test or set operation like union , intersection etc."
      ],
      "metadata": {
        "id": "LjS2tPzcomYr"
      }
    },
    {
      "cell_type": "markdown",
      "source": [
        "6. What is a string in Python, and how is it different from a list?\n",
        "\n",
        "- String is sequence of charecters enclosed in quotes.\n",
        "\n",
        "- It is different from a list because list is mutable and strings are immutable .\n",
        "\n",
        "- strings can only contains charecters but list contains different Data type (int ,float,string,etc)\n"
      ],
      "metadata": {
        "id": "md0MGqt35cpN"
      }
    },
    {
      "cell_type": "markdown",
      "source": [
        "7. How do tuples ensure data integrity in Python?\n",
        "\n",
        "- Tuple ensure data integrity by its immutable nature. its cant be changed or modified once its create and ensure its privacy and make its more reliable\n"
      ],
      "metadata": {
        "id": "fOz76Qee7rTQ"
      }
    },
    {
      "cell_type": "markdown",
      "source": [
        "8. What is a hash table, and how does it relate to dictionaries in Python ?\n",
        "\n",
        "- Hash table is a data structure which stores a key value pair using a hash function to find the store data quickly.\n",
        "\n",
        "example: if i write -\n",
        "```\n",
        "person{\"name\":'Rahul',\"age\":18}\n",
        "```\n",
        "its hashes  keys \"name\",\"age\" .\n",
        "uses those hash values to store 'Rahul' and \"age\" in a specific memory location."
      ],
      "metadata": {
        "id": "oW114tEJ2J7j"
      }
    },
    {
      "cell_type": "markdown",
      "source": [
        "9. Can lists contain different data types in Python ?\n",
        "\n",
        "- Yes list can contain different data types because its knowns for its nature of storing hetrogeneous data.\n",
        "like (int, float , string,boolean) etc\n"
      ],
      "metadata": {
        "id": "IXecAICV6lp6"
      }
    },
    {
      "cell_type": "markdown",
      "source": [
        "10.  Explain why strings are immutable in Python?\n",
        "\n",
        "- Strings are immutable in python by design to ensure its safety.\n",
        "\n",
        "- strings are hashable and immutable thats why its use as dict keys if they are not immutable then dict cant work properly.\n",
        "- strings immutable nature   ensure to share strings without the risk of unexpected changes or data corruption.\n"
      ],
      "metadata": {
        "id": "CXehgyg38KMg"
      }
    },
    {
      "cell_type": "markdown",
      "source": [
        "11. What advantages do dictionaries offer over lists for certain tasks?\n",
        "\n",
        "- Advantage  of dictionaries over lists are --\n",
        "\n",
        "- list only support value accessing through indexing . where dictionaries value can access  through its specified key. That make it more faster than list.\n",
        "\n",
        "- Also when  we need to eliminate the duplicate data then its possible in dict because list stored duplicates but dict only support unique elements.\n"
      ],
      "metadata": {
        "id": "c2WkfzklCN10"
      }
    },
    {
      "cell_type": "markdown",
      "source": [
        "12. Describe a scenario where using a tuple would be preferable over a list?\n",
        "\n",
        "-\n",
        " A tuple would be more prefarable than a list  when we have to ensure that the data we stored cant be change , modify by anyone.\n",
        "```\n",
        " example- Cordinates(48.000,34.879)\n",
        " ```\n",
        " suppose its a cordinates of a real location if i use list here instead of tuple it can be change or modify by anyone and the information will totally wrong."
      ],
      "metadata": {
        "id": "of-OhW3vQubm"
      }
    },
    {
      "cell_type": "markdown",
      "source": [
        "13. How do sets handle duplicate values in Python?\n",
        "\n",
        "- Sets are the unique elements of unordered collection.\n",
        "- sets are design in that way that if there is any duplicate value set eleminate them and print only the unique value\n"
      ],
      "metadata": {
        "id": "mXNFa6m-umeu"
      }
    },
    {
      "cell_type": "markdown",
      "source": [
        "14. How does the “in” keyword work differently for lists and dictionaries?\n",
        "\n",
        "- In list 'in' keyword checks if the\n",
        "values are present in the list or not.\n",
        "\n",
        "- but dict 'in' keyword checks only  if the key is present in the dict or not. For check the values in dict we have to use .values().\n",
        "\n",
        "Example-\n",
        "\n",
        "```\n",
        "a = {\"Rahul\":'18'}\n",
        "\"Rahul\" in a # it will give the output true because the key is present in the dict\n",
        "\n",
        "- but if we want to check the value then - '18' in a.values() # output true\n"
      ],
      "metadata": {
        "id": "PfoKYiFDwKHL"
      }
    },
    {
      "cell_type": "markdown",
      "source": [
        "15.  Can you modify the elements of a tuple? Explain why or why not?\n",
        "\n",
        "- No we cant change a elements of a tuple because its immutable in nature.\n",
        "- But a tuple can be modify if there is a mutable data structure inside the tuple like list but the tuple structure still the same.\n",
        "\n",
        "Example-\n",
        "```\n",
        "a = (\"a\",[20,30])\n",
        "a[1][0]=30\n",
        "print(a)\n",
        "#output = (a,[30,30])\n",
        "\n"
      ],
      "metadata": {
        "id": "QMX62pwo0KR_"
      }
    },
    {
      "cell_type": "markdown",
      "source": [
        "16.  What is a nested dictionary, and give an example of its use case?\n",
        "\n",
        "- Nested Dict in python is a dict inside a dict . it allows us to model more complex data.\n",
        "\n",
        "example-\n",
        "```\n",
        "a = {\n",
        "    \"name\":\"Rahul\",\n",
        "    \"age\":18,\n",
        "    \"Grades\":{    # nested dict\n",
        "        \"Math\":80,\n",
        "    }\n",
        "}\n",
        "\n",
        "a[\"Grades\"][\"Math\"]\n",
        "output = 80\n",
        "\n"
      ],
      "metadata": {
        "id": "2bacz0yn37Yi"
      }
    },
    {
      "cell_type": "markdown",
      "source": [
        "17. Describe the time complexity of accessing elements in a dictionary?\n",
        "\n",
        "- Accessing elements in a dictionary has an average-case time\n",
        "\n",
        "- When we access a value with a key in python .\n",
        "\n",
        "Calculates the hash of the key.\n",
        "\n",
        "Directly goes to the location in memory where the value is stored.\n",
        "\n"
      ],
      "metadata": {
        "id": "XBGriLxVOL8i"
      }
    },
    {
      "cell_type": "markdown",
      "source": [
        "18. In what situations are lists preferred over dictionaries?\n",
        "\n",
        "-  list are preferred over dict when when we need to work with many complex values and also need to allow duplicates values and dont need key value pair ."
      ],
      "metadata": {
        "id": "pljtjPI_PKsM"
      }
    },
    {
      "cell_type": "markdown",
      "source": [
        "19. Why are dictionaries considered unordered, and how does that affect data retrieval?\n",
        "\n",
        "- Dictionaries considered as unordered before python 3.7 version because its dont ensure you the same output as the ordered we put them.\n",
        "\n",
        "- But after coming of python 3.7 version we can rely on that it giving us the ordered collection of data.\n",
        "\n",
        "- Data retrieval is very fast in dict its does not matter the order of the value we can access them very fast by through the right key.\n"
      ],
      "metadata": {
        "id": "421Y5weVQd4A"
      }
    },
    {
      "cell_type": "markdown",
      "source": [
        "20. Explain the difference between a list and a dictionary in terms of data retrieval?\n",
        "\n",
        "- There are some difference between a list and dict--\n",
        "\n",
        "- list  values are access  by index\n",
        "- dict values are access through its keys\n",
        "\n",
        "\n",
        "- list can store duplicates values.\n",
        "- dict key must be unique.\n",
        "\n",
        "- list iterstes over values .\n",
        "- dict iterates over values, keys,items\n"
      ],
      "metadata": {
        "id": "1NQ8-1_DWv14"
      }
    },
    {
      "cell_type": "markdown",
      "source": [
        "#Practical Questions"
      ],
      "metadata": {
        "id": "8y80bDXmNP8-"
      }
    },
    {
      "cell_type": "code",
      "source": [
        "# 1.Write a code to create a string with your name and print it\n",
        "a = \"Rahul Sarkar\"\n",
        "print(\"My name is :\",a)\n"
      ],
      "metadata": {
        "id": "yZixvKGoaQzz",
        "colab": {
          "base_uri": "https://localhost:8080/"
        },
        "outputId": "e9bcfb75-6a3d-424b-ae7c-25f899a3a080"
      },
      "execution_count": null,
      "outputs": [
        {
          "output_type": "stream",
          "name": "stdout",
          "text": [
            "My name is : Rahul Sarkar\n"
          ]
        }
      ]
    },
    {
      "cell_type": "code",
      "source": [
        "# 2. Write a code to find the length of the string \"Hello World\"\n",
        "b = \"Hello World\"\n",
        "print(\"The lenth of the string is:\" , len(b))"
      ],
      "metadata": {
        "colab": {
          "base_uri": "https://localhost:8080/"
        },
        "id": "eIVggwbzOOdm",
        "outputId": "55778cae-2d1c-4544-f12f-8a15061408af"
      },
      "execution_count": null,
      "outputs": [
        {
          "output_type": "stream",
          "name": "stdout",
          "text": [
            "The lenth of the string is: 11\n"
          ]
        }
      ]
    },
    {
      "cell_type": "code",
      "source": [
        "# 3. Write a code to slice the first 3 characters from the string \"Python Programming\"\n",
        "c = \"Python Programming\"\n",
        "print(\"first 3 charecters are:\",c[:3])"
      ],
      "metadata": {
        "colab": {
          "base_uri": "https://localhost:8080/"
        },
        "id": "VDb4agueOuMC",
        "outputId": "81dcd507-bdac-4981-d4e9-8cdf627efe3e"
      },
      "execution_count": null,
      "outputs": [
        {
          "output_type": "stream",
          "name": "stdout",
          "text": [
            "first 3 charecters are: Pyt\n"
          ]
        }
      ]
    },
    {
      "cell_type": "code",
      "source": [
        "# 4. Write a code to convert the string \"hello\" to ffjkfkfuppercase\n",
        "d = \"hello\"\n",
        "print(\"Original string:\",d)\n",
        "print(\"Uppercase string:\",d.upper())\n"
      ],
      "metadata": {
        "colab": {
          "base_uri": "https://localhost:8080/"
        },
        "id": "nbAskxpfPP15",
        "outputId": "1a114c94-b9c5-4a1a-a8ee-bcbe404d707f"
      },
      "execution_count": null,
      "outputs": [
        {
          "output_type": "stream",
          "name": "stdout",
          "text": [
            "Original string: hello\n",
            "Uppercase string: HELLO\n"
          ]
        }
      ]
    },
    {
      "cell_type": "code",
      "source": [
        "# 5. Write a code to replace the word \"apple\" with \"orange\" in the string\n",
        "e = \"I like apple\"\n",
        "print(\"Original String:\", e)\n",
        "print(\"Replaced String:\", e.replace(\"apple\",\"orange\"))\n"
      ],
      "metadata": {
        "colab": {
          "base_uri": "https://localhost:8080/"
        },
        "id": "FWS59tfUP_UH",
        "outputId": "9326523a-c362-4b26-d521-090450dcd532"
      },
      "execution_count": null,
      "outputs": [
        {
          "output_type": "stream",
          "name": "stdout",
          "text": [
            "Original String: I like apple\n",
            "Replaced String: I like orange\n"
          ]
        }
      ]
    },
    {
      "cell_type": "code",
      "source": [
        "# 6. Write a code to create a list with numbers 1 to 5 and print it\n",
        "f = list(range(1,6))\n",
        "f\n",
        "\n"
      ],
      "metadata": {
        "colab": {
          "base_uri": "https://localhost:8080/"
        },
        "id": "2Gf0_rN0RbKB",
        "outputId": "d68fc677-200a-4f2e-e2d5-c33e73304eac"
      },
      "execution_count": null,
      "outputs": [
        {
          "output_type": "execute_result",
          "data": {
            "text/plain": [
              "[1, 2, 3, 4, 5]"
            ]
          },
          "metadata": {},
          "execution_count": 69
        }
      ]
    },
    {
      "cell_type": "code",
      "source": [
        "# 7. Write a code to append the number 10 to the list [1, 2, 3, 4]\n",
        "\n",
        "g = [1, 2, 3, 4]\n",
        "print(\"Original list:\",g)\n",
        "print(\"Updated List:\",g+[10])\n"
      ],
      "metadata": {
        "colab": {
          "base_uri": "https://localhost:8080/"
        },
        "id": "tbM8jCTrRo-q",
        "outputId": "c6619268-7aaf-4c61-ee00-9648eb359017"
      },
      "execution_count": null,
      "outputs": [
        {
          "output_type": "stream",
          "name": "stdout",
          "text": [
            "Original list: [1, 2, 3, 4]\n",
            "Updated List: [1, 2, 3, 4, 10]\n"
          ]
        }
      ]
    },
    {
      "cell_type": "code",
      "source": [
        " #8. Write a code to remove the number 3 from the list [1, 2, 3, 4, 5]\n",
        "h =[1, 2, 3, 4, 5]\n",
        "print(\"Original List:\",h)\n",
        "h.remove(3)\n",
        "print(\"Updated List:\",h)"
      ],
      "metadata": {
        "colab": {
          "base_uri": "https://localhost:8080/"
        },
        "id": "jqXVwiUyVYI0",
        "outputId": "6f0c0329-6887-474d-e71d-a3cb57155cd4"
      },
      "execution_count": null,
      "outputs": [
        {
          "output_type": "stream",
          "name": "stdout",
          "text": [
            "Original List: [1, 2, 3, 4, 5]\n",
            "Updated List: [1, 2, 4, 5]\n"
          ]
        }
      ]
    },
    {
      "cell_type": "code",
      "source": [
        "# 9.Write a code to access the second element in the list ['a', 'b', 'c', 'd']\n",
        "i = ['a', 'b', 'c', 'd']\n",
        "print(\"The second element in the list is:\",e[1])"
      ],
      "metadata": {
        "colab": {
          "base_uri": "https://localhost:8080/"
        },
        "id": "k_7KSpL1X4-s",
        "outputId": "4cb528a2-44ed-4014-8b74-3cd30783666d"
      },
      "execution_count": null,
      "outputs": [
        {
          "output_type": "stream",
          "name": "stdout",
          "text": [
            "The second element in the list is:  \n"
          ]
        }
      ]
    },
    {
      "cell_type": "code",
      "source": [
        "# 10.Write a code to reverse the list [10, 20, 30, 40, 50]\n",
        "j = [10, 20, 30, 40, 50]\n",
        "print(\"Original List:\",j)\n",
        "print(\"Reverse List:\",j[::-1])\n"
      ],
      "metadata": {
        "colab": {
          "base_uri": "https://localhost:8080/"
        },
        "id": "1as_PfZJYhuj",
        "outputId": "c7283210-8aa1-44bf-a6bc-9e3aaa25254e"
      },
      "execution_count": null,
      "outputs": [
        {
          "output_type": "stream",
          "name": "stdout",
          "text": [
            "Original List: [10, 20, 30, 40, 50]\n",
            "Reverse List: [50, 40, 30, 20, 10]\n"
          ]
        }
      ]
    },
    {
      "cell_type": "code",
      "source": [
        "# 11. Write a code to create a tuple with the elements 100, 200, 300 and print it\n",
        "k  = 100,200,300\n",
        "print(tuple(k))"
      ],
      "metadata": {
        "colab": {
          "base_uri": "https://localhost:8080/"
        },
        "id": "aqbPzZ7EbYMh",
        "outputId": "fbe8f36b-e8d0-45ae-e11d-93fc9e3e9129"
      },
      "execution_count": null,
      "outputs": [
        {
          "output_type": "stream",
          "name": "stdout",
          "text": [
            "(100, 200, 300)\n"
          ]
        }
      ]
    },
    {
      "cell_type": "code",
      "source": [
        "#12.Write a code to access the second-to-last element of the tuple ('red', 'green', 'blue', 'yellow')\n",
        "l = ('red', 'green', 'blue', 'yellow')\n",
        "print(\"Second to last element of the tuple:\",l[-2])"
      ],
      "metadata": {
        "colab": {
          "base_uri": "https://localhost:8080/"
        },
        "id": "uKrAMqoBbthY",
        "outputId": "f29513d1-0b69-4ee6-b752-f84481cb445b"
      },
      "execution_count": null,
      "outputs": [
        {
          "output_type": "stream",
          "name": "stdout",
          "text": [
            "Second to last element of the tuple: blue\n"
          ]
        }
      ]
    },
    {
      "cell_type": "code",
      "source": [
        "# 13. Write a code to find the minimum number in the tuple (10, 20, 5, 15).\n",
        "m =(10, 20, 5, 15)\n",
        "print(\"Minimum number in the tuple:\",min(m))"
      ],
      "metadata": {
        "colab": {
          "base_uri": "https://localhost:8080/"
        },
        "id": "6wLbHYgLdG7K",
        "outputId": "abf346cf-ad96-4384-933c-e039d89c9b11"
      },
      "execution_count": null,
      "outputs": [
        {
          "output_type": "stream",
          "name": "stdout",
          "text": [
            "Minimum number in the tuple: 5\n"
          ]
        }
      ]
    },
    {
      "cell_type": "code",
      "source": [
        "# 14. Write a code to find the index of the element \"cat\" in the tuple ('dog', 'cat', 'rabbit').\n",
        "n = ('dog', 'cat', 'rabbit')\n",
        "print(\"Index of the element cat is:\",n.index('cat'))"
      ],
      "metadata": {
        "colab": {
          "base_uri": "https://localhost:8080/"
        },
        "id": "35x_mFtUfERO",
        "outputId": "fdb2ae05-4053-4544-a8d2-d54562f31fe8"
      },
      "execution_count": 2,
      "outputs": [
        {
          "output_type": "stream",
          "name": "stdout",
          "text": [
            "Index of the element cat is: 1\n"
          ]
        }
      ]
    },
    {
      "cell_type": "code",
      "source": [
        " # 15. Write a code to create a tuple containing three different fruits and check if \"kiwi\" is in it.\n",
        "o = (\"orange\",\"apple\",\"kiwi\")\n",
        "print(\" kiwi is in the tuple:\",\"kiwi\" in o)"
      ],
      "metadata": {
        "colab": {
          "base_uri": "https://localhost:8080/"
        },
        "id": "VTnM6Uv8f8fa",
        "outputId": "1f5cc14f-b5c7-47f6-cd6b-e66051245ba5"
      },
      "execution_count": null,
      "outputs": [
        {
          "output_type": "stream",
          "name": "stdout",
          "text": [
            " kiwi is in the tuple: True\n"
          ]
        }
      ]
    },
    {
      "cell_type": "code",
      "source": [
        " # 16. Write a code to create a set with the elements 'a', 'b', 'c' and print it.\n",
        "p = 'a', 'b', 'c'\n",
        "print(\"Converting in to a set:\",set(p))"
      ],
      "metadata": {
        "colab": {
          "base_uri": "https://localhost:8080/"
        },
        "id": "Rmd2SZ6Sgy46",
        "outputId": "1ee61c45-d76b-4905-9bd4-5173659b6a40"
      },
      "execution_count": null,
      "outputs": [
        {
          "output_type": "stream",
          "name": "stdout",
          "text": [
            "Converting in to a set: {'b', 'c', 'a'}\n"
          ]
        }
      ]
    },
    {
      "cell_type": "code",
      "source": [
        "# 17. Write a code to clear all elements from the set {1, 2, 3, 4, 5}.\n",
        "q = {1, 2, 3, 4, 5}\n",
        "print(\"Clear all elements from the set:\",q.clear())"
      ],
      "metadata": {
        "colab": {
          "base_uri": "https://localhost:8080/"
        },
        "id": "R8MayJNJhIY9",
        "outputId": "d22b2418-29e2-4edb-9404-6c77624cbd06"
      },
      "execution_count": null,
      "outputs": [
        {
          "output_type": "stream",
          "name": "stdout",
          "text": [
            "Clear all elements from the set: None\n"
          ]
        }
      ]
    },
    {
      "cell_type": "code",
      "source": [
        "# 18. Write a code to remove the element 4 from the set {1, 2, 3, 4}.\n",
        "r = {1, 2, 3, 4}\n",
        "print(\"Original set:\",r)\n",
        "r.remove(4)\n",
        "print(\"Updated list:\",r)\n",
        "\n"
      ],
      "metadata": {
        "colab": {
          "base_uri": "https://localhost:8080/"
        },
        "id": "vNMmkiAtjHGh",
        "outputId": "3e3e7a2f-7eff-4777-e66a-95cc7016ca37"
      },
      "execution_count": null,
      "outputs": [
        {
          "output_type": "stream",
          "name": "stdout",
          "text": [
            "Original set: {1, 2, 3, 4}\n",
            "Updated list: {1, 2, 3}\n"
          ]
        }
      ]
    },
    {
      "cell_type": "code",
      "source": [
        "# 19.write a code to find the union of two sets {1, 2, 3} and {3, 4, 5}\n",
        "a1 = {1, 2, 3,}\n",
        "a2 = {3,4,5}\n",
        "print(\"Union of the two set is:\",a1|a2)\n"
      ],
      "metadata": {
        "colab": {
          "base_uri": "https://localhost:8080/"
        },
        "id": "YcKikblch2Ms",
        "outputId": "107cb7bf-f2f1-47dd-a552-7e823a2f8778"
      },
      "execution_count": null,
      "outputs": [
        {
          "output_type": "stream",
          "name": "stdout",
          "text": [
            "Union of the two set is: {1, 2, 3, 4, 5}\n"
          ]
        }
      ]
    },
    {
      "cell_type": "code",
      "source": [
        " # 20. Write a code to find the intersection of two sets {1, 2, 3} and {2, 3, 4}\n",
        "b1 = {1,2,3}\n",
        "b2 = {2,3,4}\n",
        "print(\"Intersection of two set :\",b1&b2)"
      ],
      "metadata": {
        "colab": {
          "base_uri": "https://localhost:8080/"
        },
        "id": "-OD58ghRlZWK",
        "outputId": "43c7cfe5-ebb1-4c48-eb7c-f4c592ffec56"
      },
      "execution_count": null,
      "outputs": [
        {
          "output_type": "stream",
          "name": "stdout",
          "text": [
            "Intersection of two set : {2, 3}\n"
          ]
        }
      ]
    },
    {
      "cell_type": "code",
      "source": [
        "# 21. Write a code to create a dictionary with the keys \"name\", \"age\", and \"city\", and print it\n",
        "c1 = dict(name=\"Rahul Sarkar\", age=18,city=\"kolkata\")\n",
        "print(c1)"
      ],
      "metadata": {
        "colab": {
          "base_uri": "https://localhost:8080/"
        },
        "id": "XUI8GsVQmTWy",
        "outputId": "d7833e22-6292-4627-c164-ff7af4149324"
      },
      "execution_count": null,
      "outputs": [
        {
          "output_type": "stream",
          "name": "stdout",
          "text": [
            "{'name': 'Rahul Sarkar', 'age': 18, 'city': 'kolkata'}\n"
          ]
        }
      ]
    },
    {
      "cell_type": "code",
      "source": [
        "# 22. Write a code to add a new key-value pair \"country\": \"USA\" to the dictionary {'name': 'John', 'age':25}\n",
        "d1 = {'name': 'John', 'age':25}\n",
        "print(\"Original list:\",d1)\n",
        "d1.update(country=\"USA\")\n",
        "print(\"Updated list:\",d1)"
      ],
      "metadata": {
        "colab": {
          "base_uri": "https://localhost:8080/"
        },
        "id": "nx9Ts-4-m0rf",
        "outputId": "c8a407c1-a66f-4d2b-f660-f922a8a30e98"
      },
      "execution_count": null,
      "outputs": [
        {
          "output_type": "stream",
          "name": "stdout",
          "text": [
            "Original list: {'name': 'John', 'age': 25}\n",
            "Updated list: {'name': 'John', 'age': 25, 'country': 'USA'}\n"
          ]
        }
      ]
    },
    {
      "cell_type": "code",
      "source": [
        "# 23. Write a code to access the value associated with the key \"name\" in the dictionary {'name': 'Alice', 'age': 30}.\n",
        "e1 ={'name': 'Alice', 'age': 30}\n",
        "print(\"Value of the key 'name' is:\",e1['name'])"
      ],
      "metadata": {
        "colab": {
          "base_uri": "https://localhost:8080/"
        },
        "id": "7K7BDe8soIdf",
        "outputId": "7af96af0-f6fd-402b-98a0-1f58c4c97b64"
      },
      "execution_count": null,
      "outputs": [
        {
          "output_type": "stream",
          "name": "stdout",
          "text": [
            "Value of the key 'name' is: Alice\n"
          ]
        }
      ]
    },
    {
      "cell_type": "code",
      "source": [
        "# 24. Write a code to remove the key \"age\" from the dictionary  {'name': 'Bob', 'age': 22, 'city': 'New York'}.\n",
        "\n",
        "f1  =  {'name': 'Bob', 'age': 22, 'city': 'New York'}\n",
        "print(\"Original List:\",f1)\n",
        "del f1['age']\n",
        "print(\"Updated list:\",f1)"
      ],
      "metadata": {
        "colab": {
          "base_uri": "https://localhost:8080/"
        },
        "id": "KwMrLSW-qxIq",
        "outputId": "2914ff15-e5d6-4b2c-8dcc-824e5a5ef4a3"
      },
      "execution_count": null,
      "outputs": [
        {
          "output_type": "stream",
          "name": "stdout",
          "text": [
            "Original List: {'name': 'Bob', 'age': 22, 'city': 'New York'}\n",
            "Updated list: {'name': 'Bob', 'city': 'New York'}\n"
          ]
        }
      ]
    },
    {
      "cell_type": "code",
      "source": [
        "# 25. Write a code to check if the key \"city\" exists in the dictionary {'name': 'Alice', 'city': 'Paris'}.\n",
        "g1 = {'name': 'Alice', 'city': 'Paris'}\n",
        "print(\"'city' key available in the dictionary:\",'city' in g1)"
      ],
      "metadata": {
        "colab": {
          "base_uri": "https://localhost:8080/"
        },
        "id": "t0Mqe1FmsSZa",
        "outputId": "f2aa0241-4952-448a-9226-227c29d2e574"
      },
      "execution_count": null,
      "outputs": [
        {
          "output_type": "stream",
          "name": "stdout",
          "text": [
            "'city' key available in the dictionary: True\n"
          ]
        }
      ]
    },
    {
      "cell_type": "code",
      "source": [
        " # 26. Write a code to create a list, a tuple, and a dictionary, and print them all.\n",
        "l1 = \"Rahul\",18\n",
        "l5 = list(l1)\n",
        "l2 = \"Rahul\", \"Tapas\",15\n",
        "l7 =tuple(l2)\n",
        "l3 = dict(name=\"Rahul Sarkar\", age=18,city=\"kolkata\")\n",
        "print(f\"This is a list:{l5}\\nThis is a tuple:{l2}\\nThis is a dictionary:{l3}\")\n",
        "                         #or\n",
        "print('------------')\n",
        "x = [\"Rahul\", 18]\n",
        "y = (\"Rahul\", 18)\n",
        "z = {\"Name\":'Rahul',\"age\":18}\n",
        "print(\"list:\",x,\"\\ntuple:\",y,\"\\ndictionary:\",z)\n"
      ],
      "metadata": {
        "colab": {
          "base_uri": "https://localhost:8080/"
        },
        "id": "Waq5uj9stUyZ",
        "outputId": "a85464cd-3211-414b-b866-01b0d9ef93ff"
      },
      "execution_count": null,
      "outputs": [
        {
          "output_type": "stream",
          "name": "stdout",
          "text": [
            "This is a list:['Rahul', 18]\n",
            "This is a tuple:('Rahul', 'Tapas', 15)\n",
            "This is a dictionary:{'name': 'Rahul Sarkar', 'age': 18, 'city': 'kolkata'}\n",
            "------------\n",
            "list: ['Rahul', 18] \n",
            "tuple: ('Rahul', 18) \n",
            "dictionary: {'Name': 'Rahul', 'age': 18}\n"
          ]
        }
      ]
    },
    {
      "cell_type": "code",
      "source": [
        "\n"
      ],
      "metadata": {
        "id": "Vs_Z5GYIvDnL"
      },
      "execution_count": null,
      "outputs": []
    },
    {
      "cell_type": "code",
      "source": [
        "# 27. Write a code to create a list of 5 random numbers between 1 and 100, sort it in ascending order, and print the result.(replaced)\n",
        "x1 = [4,77,44,22,14]\n",
        "x2 = [i for i in sorted(x1)]\n",
        "print(\"Random list:\",x1,\"\\nSorted list:\",x2)"
      ],
      "metadata": {
        "colab": {
          "base_uri": "https://localhost:8080/"
        },
        "id": "t3UKRGmLvZpI",
        "outputId": "16df85b0-1722-4d3b-8c4a-fabf6f4ce83c"
      },
      "execution_count": null,
      "outputs": [
        {
          "output_type": "stream",
          "name": "stdout",
          "text": [
            "Random list: [4, 77, 44, 22, 14] \n",
            "Sorted list: [4, 14, 22, 44, 77]\n"
          ]
        }
      ]
    },
    {
      "cell_type": "code",
      "source": [
        "# 28. Write a code to create a list with strings and print the element at the third index.\n",
        "v1 = [\"rahul\", \"apple\", \"orange\"]\n",
        "print(\"Element in the third index:\",v1[2])"
      ],
      "metadata": {
        "colab": {
          "base_uri": "https://localhost:8080/"
        },
        "id": "ARPL8Jv4wXXf",
        "outputId": "0331d71e-3978-42a1-951f-117a9e6b667d"
      },
      "execution_count": null,
      "outputs": [
        {
          "output_type": "stream",
          "name": "stdout",
          "text": [
            "Element in the third index: orange\n"
          ]
        }
      ]
    },
    {
      "cell_type": "code",
      "source": [
        "# 29. Write a code to combine two dictionaries into one and print the result\n",
        "n1 = {\"Name\":\"Rahul\",'Age':'18'}\n",
        "n2 ={\"City\":\"Delhi\"}\n",
        "print(\"First Dictionary:\",n1)\n",
        "print(\"Second Dictionary:\",n2)\n",
        "n1.update(n2)\n",
        "print(\"Combined Dictionary:\",n1)"
      ],
      "metadata": {
        "colab": {
          "base_uri": "https://localhost:8080/"
        },
        "id": "WCnMeP_52Sj-",
        "outputId": "b88bc0a8-7b15-4c03-9cdf-c87d31f67201"
      },
      "execution_count": null,
      "outputs": [
        {
          "output_type": "stream",
          "name": "stdout",
          "text": [
            "First Dictionary: {'Name': 'Rahul', 'Age': '18'}\n",
            "Second Dictionary: {'City': 'Delhi'}\n",
            "Combined Dictionary: {'Name': 'Rahul', 'Age': '18', 'City': 'Delhi'}\n"
          ]
        }
      ]
    },
    {
      "cell_type": "code",
      "source": [
        "# 30. Write a code to convert a list of strings into a set.\n",
        "list1 = [\"apple\", \"banana\", \"cherry\"]\n",
        "set1 = set(list1)\n",
        "print(\"list is:\",list1,\"\\nconverting in to set:\",set1)"
      ],
      "metadata": {
        "colab": {
          "base_uri": "https://localhost:8080/"
        },
        "id": "MhQJbiAg295e",
        "outputId": "2e04a015-624a-49c2-b8a5-c09d27108d4d"
      },
      "execution_count": null,
      "outputs": [
        {
          "output_type": "stream",
          "name": "stdout",
          "text": [
            "list is: ['apple', 'banana', 'cherry'] \n",
            "converting in to set: {'apple', 'banana', 'cherry'}\n"
          ]
        }
      ]
    }
  ]
}